{
 "cells": [
  {
   "cell_type": "markdown",
   "metadata": {},
   "source": [
    "# Where should I open my new Latin American restaurant?"
   ]
  },
  {
   "cell_type": "markdown",
   "metadata": {},
   "source": [
    "## 1. Bussiness problem"
   ]
  },
  {
   "cell_type": "markdown",
   "metadata": {},
   "source": [
    "The client, propietary of a known franchise of Latin American restaurants, wants to expand his bussiness to Canada and decided to begin his expansion project in Toronto. He's never lived in the city so he needs help to analyze which is the most appropiate neighbourhood to stablish his first restaurant.\n",
    "\n",
    "I will search for information online about the demographic and economic profile of the population in each neighbourhood to be able to make a cluster analysis which will help me to determine the optimal place or places where the restaurant should be sited."
   ]
  },
  {
   "cell_type": "markdown",
   "metadata": {},
   "source": [
    "## 2. Data Sources"
   ]
  },
  {
   "cell_type": "markdown",
   "metadata": {},
   "source": [
    "First I scrapped the wikipedia website to obtain the neighbourhood information (https://en.wikipedia.org/w/index.php?title=List_of_postal_codes_of_Canada:_M&oldid=945633050).\n",
    "\n",
    "Then, I obtained the coordinates of each neighbourhood's centroid from the website https://cocl.us/Geospatial_data\n",
    "\n",
    "I will use the Foursquare API to find the number of Latin American restaurants in each neighbourhood and have a view of the level of competition and offer. \n",
    "\n",
    "Looking for information online I found in the \"Toronto’s Open Data Portal\" many demographic and economic metrics of the Toronto neighbourhoods. I extracted from it information about the total population, the population from latin american countries and the income in each neighbourhood. \n",
    "Here's the link: https://bit.ly/3airrOJ "
   ]
  },
  {
   "cell_type": "code",
   "execution_count": null,
   "metadata": {},
   "outputs": [],
   "source": []
  }
 ],
 "metadata": {
  "kernelspec": {
   "display_name": "Python 3",
   "language": "python",
   "name": "python3"
  },
  "language_info": {
   "codemirror_mode": {
    "name": "ipython",
    "version": 3
   },
   "file_extension": ".py",
   "mimetype": "text/x-python",
   "name": "python",
   "nbconvert_exporter": "python",
   "pygments_lexer": "ipython3",
   "version": "3.7.6"
  }
 },
 "nbformat": 4,
 "nbformat_minor": 4
}
